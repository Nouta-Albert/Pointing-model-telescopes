{
 "cells": [
  {
   "cell_type": "markdown",
   "id": "7e9ee671-749c-439e-bc50-12d489cd103e",
   "metadata": {},
   "source": [
    "## Computing the transformation matrix between Coralie's guiding camera detector (pixel offsets) and the telescope (offsets in azi and ele)  i.e the transformation matrix between telescope movements in azimuth and altitude (az, alt) and the movement of a target on the detector (x, y) "
   ]
  },
  {
   "cell_type": "code",
   "execution_count": 1,
   "id": "3a9b0924-5cbc-4a91-8e6a-5e96211f31e1",
   "metadata": {},
   "outputs": [
    {
     "name": "stderr",
     "output_type": "stream",
     "text": [
      "/home/alberte2/miniconda3/lib/python3.12/site-packages/tqdm/auto.py:21: TqdmWarning: IProgress not found. Please update jupyter and ipywidgets. See https://ipywidgets.readthedocs.io/en/stable/user_install.html\n",
      "  from .autonotebook import tqdm as notebook_tqdm\n"
     ]
    }
   ],
   "source": [
    "import numpy as np\n",
    "from astropy.io import fits\n",
    "from photutils.detection import DAOStarFinder\n",
    "from astropy.stats import mad_std\n",
    "import matplotlib.pyplot as plt\n",
    "from matplotlib.patches import Circle\n",
    "import os"
   ]
  },
  {
   "cell_type": "code",
   "execution_count": 10,
   "id": "2a26206c-1992-4bbd-aa75-68f665e24255",
   "metadata": {},
   "outputs": [],
   "source": [
    "def compute_transformation_matrix(ref_image, image1, image2, offsets_arcsec, pix_scale, output_dir):\n",
    "    \"\"\"\n",
    "    Compute the transformation matrix between pixel displacements and telescope offsets,\n",
    "    and save annotated images for star verification.\n",
    "\n",
    "    Parameters:\n",
    "    -----------\n",
    "    ref_image : str\n",
    "        Path to the reference FITS image.\n",
    "    image1 : str\n",
    "        Path to the first FITS image with applied telescope offsets.\n",
    "    image2 : str\n",
    "        Path to the second FITS image with applied telescope offsets.\n",
    "    offsets_arcsec : list of tuples\n",
    "        Telescope offsets in azimuth and elevation for image1 and image2 (az, alt).\n",
    "    pix_scale : float\n",
    "        Pixel scale in arcseconds per pixel.\n",
    "    output_dir : str\n",
    "        Directory to save the annotated images.\n",
    "\n",
    "    Returns:\n",
    "    --------\n",
    "    transformation_matrix : np.ndarray\n",
    "        The 2x2 transformation matrix mapping (x, y) pixel offsets to (az, alt).\n",
    "    \"\"\"\n",
    "\n",
    "    # Step 1: Extract reference fiber coordinates from ref_image header\n",
    "    with fits.open(ref_image) as ref_hdul:\n",
    "        ref_header = ref_hdul[0].header\n",
    "        ref_x = ref_header['HIERARCH FIBER XREFCUR']\n",
    "        ref_y = ref_header['HIERARCH FIBER YREFCUR']\n",
    "        ref_coords = np.array([ref_x, ref_y])\n",
    "\n",
    "    # Step 2: Detect star centroids in image1 and image2\n",
    "    def detect_and_save_star(image_path):\n",
    "        with fits.open(image_path) as hdul:\n",
    "            data = hdul[0].data\n",
    "        # Estimate background and detect the star\n",
    "        bkg = np.median(data)\n",
    "        mad = mad_std(data - bkg)\n",
    "        daofind = DAOStarFinder(threshold=5 * mad, fwhm=3.0)  # Adjust FWHM if needed\n",
    "        sources = daofind(data - bkg)\n",
    "        if sources is None or len(sources) == 0:\n",
    "            raise ValueError(f\"No stars detected in {image_path}\")\n",
    "        # Use the brightest star\n",
    "        brightest_star = sources[np.argmax(sources['flux'])]\n",
    "        x_centroid, y_centroid = brightest_star['xcentroid'], brightest_star['ycentroid']\n",
    "\n",
    "        # Save annotated image with a circle over the detected star\n",
    "        fig, ax = plt.subplots()\n",
    "        im = ax.imshow(data, cmap= 'gray', origin='lower', vmin=bkg, vmax=bkg + 5 * mad)\n",
    "        circle = Circle((x_centroid, y_centroid), radius=30, color='red', fill=False, label='Detected Star')\n",
    "        ax.add_patch(circle)\n",
    "        plt.colorbar(im , ax=ax)\n",
    "        plt.title(f\"Star Detection: {os.path.basename(image_path)}\")\n",
    "        plt.xlabel(\"X Pixel\")\n",
    "        plt.ylabel(\"Y Pixel\")\n",
    "        output_filename = os.path.join(output_dir, os.path.basename(image_path).replace('.fits', '.png'))\n",
    "        plt.savefig(output_filename)\n",
    "        plt.close()\n",
    "        print(f\"Saved annotated image: {output_filename}\")\n",
    "        return np.array([x_centroid, y_centroid])\n",
    "\n",
    "    # Ensure output directory exists\n",
    "    os.makedirs(output_dir, exist_ok=True)\n",
    "\n",
    "    image1_coords = detect_and_save_star(image1)\n",
    "    image2_coords = detect_and_save_star(image2)\n",
    "\n",
    "    # Print coordinates\n",
    "    print(f\"Image 1 Star Coordinates (x, y): {image1_coords}\")\n",
    "    print(f\"Image 2 Star Coordinates (x, y): {image2_coords}\")\n",
    "\n",
    "    # Step 3: Compute pixel offsets\n",
    "    delta_px_1 = image1_coords - ref_coords  # From ref_image to image1\n",
    "    delta_px_2 = image2_coords - image1_coords  # From image1 to image2\n",
    "\n",
    "    # Step 4: Convert pixel offsets to arcseconds\n",
    "    delta_arcsec = np.array([delta_px_1, delta_px_2]) * pix_scale\n",
    "\n",
    "    # Step 5: Solve for the transformation matrix (delta_arcsec -> offsets_arcsec)\n",
    "    input_offsets = np.array(offsets_arcsec)  # Telescope offsets in (az, alt)\n",
    "    transformation_matrix, _, _, _ = np.linalg.lstsq(delta_arcsec, input_offsets, rcond=None)\n",
    "\n",
    "    return transformation_matrix"
   ]
  },
  {
   "cell_type": "code",
   "execution_count": 11,
   "id": "026611ec-c04e-4ac8-8027-71e3eee193c7",
   "metadata": {},
   "outputs": [
    {
     "name": "stdout",
     "output_type": "stream",
     "text": [
      "Saved annotated image: /home/alberte2/Sample_docs/Compute_transformation_matrix_coralie/Albert7.png\n",
      "Saved annotated image: /home/alberte2/Sample_docs/Compute_transformation_matrix_coralie/Albert8.png\n",
      "Image 1 Star Coordinates (x, y): [651.57569671 572.08968503]\n",
      "Image 2 Star Coordinates (x, y): [841.68672663 570.6179482 ]\n",
      "Transformation Matrix (x, y -> az, alt):\n",
      "[[0.00792989 1.02141226]\n",
      " [1.02434018 0.00474254]]\n"
     ]
    }
   ],
   "source": [
    "# Example usage:\n",
    "# File paths for reference image and images with applied offsets\n",
    "ref_image = \"/home/alberte2/Sample_docs/Compute_transformation_matrix_coralie/Albert6.fits\"  # Replace with actual file path\n",
    "image1 = \"/home/alberte2/Sample_docs/Compute_transformation_matrix_coralie/Albert7.fits\"  # With (50, 0) offset\n",
    "image2 = \"/home/alberte2/Sample_docs/Compute_transformation_matrix_coralie/Albert8.fits\"  # With (0, 50) offset\n",
    "\n",
    "# Telescope offsets for image1 and image2 in (az, alt) arcseconds\n",
    "offsets_arcsec = [(50, 0), (0, 50)]\n",
    "# Pixel scale in arcseconds per pixel\n",
    "pix_scale = 0.2575  \n",
    "# Output directory for annotated images\n",
    "output_dir = \"/home/alberte2/Sample_docs/Compute_transformation_matrix_coralie/\"\n",
    "# Compute the transformation matrix\n",
    "matrix = compute_transformation_matrix(ref_image, image1, image2, offsets_arcsec, pix_scale, output_dir)\n",
    "print(\"Transformation Matrix (x, y -> az, alt):\")\n",
    "print(matrix)"
   ]
  },
  {
   "cell_type": "code",
   "execution_count": null,
   "id": "a6560641-fde2-492e-a45d-cfcf3ea5552a",
   "metadata": {},
   "outputs": [],
   "source": []
  }
 ],
 "metadata": {
  "kernelspec": {
   "display_name": "Python 3 (ipykernel)",
   "language": "python",
   "name": "python3"
  },
  "language_info": {
   "codemirror_mode": {
    "name": "ipython",
    "version": 3
   },
   "file_extension": ".py",
   "mimetype": "text/x-python",
   "name": "python",
   "nbconvert_exporter": "python",
   "pygments_lexer": "ipython3",
   "version": "3.12.2"
  }
 },
 "nbformat": 4,
 "nbformat_minor": 5
}
